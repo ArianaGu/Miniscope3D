{
 "cells": [
  {
   "cell_type": "markdown",
   "metadata": {},
   "source": [
    "# Adaptive Stitching\n",
    "This code performs adaptive stitching for randomly spaced microlenses that are multifocal and have aberrations added to them. The adaptive stitching is needed for the microlenses to be correctly 3D printed with Nanoscribe. The code places the stitching artifacts at the boundaries of the microlenses and thus maximizes optical quality. \n",
    "\n",
    "The demonstration here will be for the 36 multifocal microlenses with astigmatism and tilt added. This was used in the paper: **Miniscope3D: optimized single-shot miniature 3D fluorescence microscopy**"
   ]
  },
  {
   "cell_type": "code",
   "execution_count": 1,
   "metadata": {},
   "outputs": [
    {
     "name": "stdout",
     "output_type": "stream",
     "text": [
      "Using matplotlib backend: agg\n",
      "Populating the interactive namespace from numpy and matplotlib\n"
     ]
    }
   ],
   "source": [
    "%pylab\n",
    "%matplotlib inline\n",
    "import matplotlib.pyplot as plt\n",
    "import TipSlicerUpdated\n",
    "import random\n",
    "import matplotlib.pyplot as plt\n",
    "import numpy as np\n",
    "import os\n",
    "import scipy.ndimage.morphology as im"
   ]
  },
  {
   "cell_type": "code",
   "execution_count": 2,
   "metadata": {},
   "outputs": [],
   "source": [
    "# this is the internal potential calculation for a single lens extracted for reuse in the masking def\n",
    "def AberPotential(X,Y,z,params):\n",
    "    xpos,ypos,rlist,r_lenslet,height,aperR,indexPoint,Z=params\n",
    "    Xn =  X/1800.\n",
    "    Yn =  Y/1800.\n",
    "    n=indexPoint\n",
    "    Xnzern=Xn- xpos[n]/1800.\n",
    "    Ynzern=Yn- ypos[n]/1800.\n",
    "    r = np.sqrt(np.square(Xnzern) + np.square(Ynzern))\n",
    "    Z2  =  Z[n,0]  * 2.*Xnzern\n",
    "    Z3  =  Z[n,1]  * 2.*Ynzern\n",
    "    Z5  =  Z[n,2]  * 2.*np.sqrt(6.)*Xnzern*Ynzern\n",
    "    Z6  =  Z[n,3]  * np.sqrt(6.)*(Xnzern**2-Ynzern**2)\n",
    "    #Z12 =  Z[n,4] * np.sqrt(10.)*(Xnzern**2-Ynzern**2)*(4*r**2-3)\n",
    "    #Z13 =  Z[n,5] * 2*np.sqrt(10.)*Xnzern*Ynzern*(4*r**2-3)\n",
    "    #Z23 =  Z[n,6] * 2*np.sqrt(14.)*Xnzern*Ynzern*(15*r**4-20*r**2+6)\n",
    "    #Z24 =  Z[n,7] * np.sqrt(14.)*(Xnzern**2-Ynzern**2)*(15*r**4-20*r**2+6)\n",
    "    ZW = Z5+Z6+Z2+Z3#+Z12+Z13+Z23+Z24\n",
    "    sph1 = ZW+np.real(np.sqrt(0j+rlist[n]**2 - (X-xpos[n])**2 - (Y-ypos[n])**2))-np.real(np.sqrt(0j+rlist[n]**2-r_lenslet**2))-(z-height)\n",
    "    return sph1\n",
    "\n",
    "\n",
    "def sliceFormulaAber(X,Y,z,params):\n",
    "    xpos,ypos,rlist,r_lenslet,height,aperR,indexPoint,aber=params\n",
    "    aper=np.sqrt(X**2+Y**2) <= aperR\n",
    "    Z=aber\n",
    "    if z<=height:        \n",
    "        return aper\n",
    "    else:                         \n",
    "        T = np.zeros(len(X))\n",
    "        inds=range(len(xpos))\n",
    "        if (indexPoint>-1):\n",
    "            inds=[indexPoint]\n",
    "        for n in inds:\n",
    "            sph1=AberPotential(X,Y,z,[xpos,ypos,rlist,r_lenslet,height,aperR,n,aber])\n",
    "            T = np.maximum(T,sph1)\n",
    "            T=(T>0)\n",
    "        return (T)*aper\n",
    "    \n",
    "def maskFormulaAber(X,Y,z,params):\n",
    "    xpos,ypos,rlist,r_lenslet,height,aperR,indexPoint,aber=params\n",
    "    aper=np.sqrt(X**2+Y**2) <= aperR\n",
    "    if (z<=height):\n",
    "        z=height    \n",
    "    DD=np.zeros((len(xpos),X.shape[0],X.shape[1]))\n",
    "    for i in np.arange(len(DD)):\n",
    "        DD[i]=-AberPotential(X,Y,z,[xpos,ypos,rlist,r_lenslet,height,aperR,i,aber])*aper\n",
    "    Div=np.argmin(DD,axis=0)\n",
    "    if (indexPoint==-1):\n",
    "        return Div\n",
    "    else:\n",
    "        return np.where(Div==indexPoint,1,0)*aper\n",
    "\n",
    "# extract the centres from the structure itself\n",
    "def getCentresAber(X,Y,z,params):\n",
    "    xpos,ypos,rlist,r_lenslet,height,aperR,indexPoint,aber=params\n",
    "    aper=np.sqrt(X**2+Y**2) <= aperR\n",
    "    centList=[]\n",
    "    for i in np.arange(len(xpos)):\n",
    "        DD=-AberPotential(X,Y,z,[xpos,ypos,rlist,r_lenslet,height,aperR,i,aber])\n",
    "        xc,yc=np.unravel_index(np.argmin(DD*aper),DD.shape)\n",
    "        centList.append([yc,xc])\n",
    "    Cents=np.asarray(centList)\n",
    "    return Cents"
   ]
  },
  {
   "cell_type": "markdown",
   "metadata": {},
   "source": [
    "# Define microlens array parameters"
   ]
  },
  {
   "cell_type": "code",
   "execution_count": 3,
   "metadata": {},
   "outputs": [],
   "source": [
    "#all units are in microns\n",
    "r_lenslet=200   #average diameter of each microlens\n",
    "samples = (1800,1800)  #how many samples\n",
    "xgrng = np.array((-900, 900)) #physical dimension of the microlens array in microns  (1.8 mm here)\n",
    "xgrng2 = np.array((-1800, 1800)) #in microns\n",
    "ygrng=xgrng\n",
    "ygrng2=xgrng2\n",
    "\n",
    "\n",
    "yg = np.linspace(ygrng[0], ygrng[1], samples[0])\n",
    "xg=yg\n",
    "px=xg[1] - xg[0]\n",
    "py=px\n",
    "X,Y= np.meshgrid(xg,yg)\n",
    "\n",
    "yg2 = np.linspace(ygrng2[0], ygrng2[1], samples[0])\n",
    "xg2=yg2\n",
    "px2=xg2[1] - xg2[0]\n",
    "py2=px2\n",
    "X2,Y2= np.meshgrid(xg2,yg2)\n",
    "\n",
    "Xn =  X2/np.max(X2)\n",
    "Yn =  Y2/np.max(Y2)\n",
    "\n",
    "# xposition list in mm\n",
    "xpos=np.array([ 0.43641585,  0.29636857,  0.21274264,  0.6394599 ,  0.65087426,\n",
    "        -0.49792665, -0.11775845,  0.59266114, -0.1886654 , -0.45093933,\n",
    "        -0.06002499,  0.49039292,  0.18374896,  0.32612935,  0.5355058 ,\n",
    "        -0.07172677,  0.75601995, -0.27811506, -0.24367642, -0.22418435,\n",
    "         0.22841486, -0.67916805, -0.6805813 , -0.00778827,  0.8232382 ,\n",
    "        -0.30767533,  0.19155966,  0.46077853,  0.10799856, -0.23324046,\n",
    "        -0.4479409 ,  0.13673823, -0.42627445, -0.02470369, -0.46301848,\n",
    "        -0.6288782 ], dtype=float32)\n",
    "# yposition list in mm\n",
    "ypos=np.array([-0.0961623 , -0.590606  ,  0.07416802,  0.08558229, -0.2063948 ,\n",
    "         0.22398773, -0.66743815, -0.4089036 , -0.48776114, -0.01421136,\n",
    "         0.48614654,  0.47054946, -0.29256105, -0.4106429 , -0.5639799 ,\n",
    "         0.6772651 ,  0.26205382,  0.5754221 ,  0.10239594, -0.2096889 ,\n",
    "         0.47864714, -0.39620727,  0.18052123,  0.17819166,  0.07138762,\n",
    "        -0.68207985, -0.7970757 ,  0.18449856, -0.4582133 ,  0.37643924,\n",
    "         0.50502807,  0.66083544, -0.18756227, -0.07771606, -0.5855127 ,\n",
    "        -0.00837374], dtype=float32)\n",
    "#radius of curvature in mm\n",
    "rlist=np.array([ 6.306523 ,  6.453186 , 16.322765 ,  7.4996486, 12.613046 ,\n",
    "        5.780979 , 12.064652 ,  6.032326 , 17.342937 ,  6.6068335,\n",
    "        7.1150513, 19.8205   ,  8.408697 , 11.09948  ,  7.9282   ,\n",
    "        9.91025  ,  8.161383 , 13.87435  ,  7.3022895, 11.561958 ,\n",
    "       14.604579 ,  9.249567 ,  9.568518 ,  6.767976 ,  5.903979 ,\n",
    "        7.707972 , 18.499134 , 10.672577 ,  6.937175 ,  6.1663775,\n",
    "       15.415944 , 10.277296 ,  8.671469 ,  8.951194 ,  5.663    ,\n",
    "       13.213667 ],dtype=float32) \n",
    "\n",
    "#zernike list in mm\n",
    "zernlist=np.array([[-3.03727644e-03,  3.45289009e-03, -8.50316486e-04,\n",
    "         -9.94477305e-04],\n",
    "        [ 2.08902825e-03, -5.25590964e-03, -5.57003869e-03,\n",
    "          1.66087621e-03],\n",
    "        [-1.54656521e-03, -7.22034927e-03, -1.47716681e-04,\n",
    "          1.33255846e-03],\n",
    "        [-6.46650698e-03, -1.09545095e-03, -1.48787047e-03,\n",
    "          2.08820638e-04],\n",
    "        [ 4.51811217e-03, -1.51357264e-03,  1.89111437e-04,\n",
    "          3.22496460e-04],\n",
    "        [-1.23638997e-03,  1.33150117e-03, -5.25358878e-03,\n",
    "          9.76655632e-03],\n",
    "        [ 4.36959649e-03, -7.47654727e-03,  3.64801125e-03,\n",
    "         -1.86670839e-03],\n",
    "        [-1.29632989e-03, -8.81011318e-03, -2.17094715e-03,\n",
    "          5.12582343e-03],\n",
    "        [-3.18442448e-03, -7.02016230e-04, -7.80638075e-04,\n",
    "          8.95439996e-04],\n",
    "        [ 1.33037404e-03, -4.07017302e-03,  1.83174980e-03,\n",
    "          4.63185087e-03],\n",
    "        [ 6.37175108e-04,  3.62162525e-03, -1.38857099e-03,\n",
    "         -1.69407239e-03],\n",
    "        [ 4.18911048e-04,  2.99920258e-03, -6.04745280e-03,\n",
    "         -2.02366011e-03],\n",
    "        [ 7.84681237e-04,  2.57954700e-03,  8.30374379e-03,\n",
    "         -5.63086197e-03],\n",
    "        [-9.27667075e-04,  7.60378689e-03,  5.11155883e-03,\n",
    "         -2.85442872e-03],\n",
    "        [ 3.69066279e-03,  1.44687016e-03,  3.64636071e-03,\n",
    "         -1.35618821e-03],\n",
    "        [ 3.47679667e-03,  9.66886338e-03,  6.05431778e-05,\n",
    "          2.10903143e-03],\n",
    "        [-7.06169615e-03,  1.05272122e-02, -2.37144646e-03,\n",
    "          2.14290898e-03],\n",
    "        [-3.13660316e-03,  7.06096133e-03, -8.40417400e-04,\n",
    "         -2.18926976e-03],\n",
    "        [ 7.11004948e-03,  2.00309485e-04,  1.43178422e-02,\n",
    "          9.40302107e-03],\n",
    "        [ 5.73336380e-03,  4.81330231e-03, -6.11291872e-03,\n",
    "         -5.15368767e-03],\n",
    "        [-2.86504888e-04, -1.82941454e-04,  8.74243851e-04,\n",
    "          1.06786657e-03],\n",
    "        [-4.43635369e-03,  3.36597041e-05, -3.35925579e-04,\n",
    "         -2.17877914e-06],\n",
    "        [-4.91749262e-03,  5.81631484e-03,  6.35021715e-04,\n",
    "          1.07655076e-04],\n",
    "        [-7.96477543e-04,  1.53168791e-03,  7.15573411e-03,\n",
    "         -7.31880311e-03],\n",
    "        [ 5.98072400e-03,  1.42488685e-02, -8.81085114e-04,\n",
    "         -4.13347734e-03],\n",
    "        [-4.52623982e-03, -2.22414453e-03,  2.17066554e-05,\n",
    "         -1.89099193e-03],\n",
    "        [-3.83377355e-03,  6.57709083e-04,  6.44097291e-03,\n",
    "          1.02351094e-03],\n",
    "        [-3.02775938e-04,  2.83448049e-03,  1.72653550e-03,\n",
    "         -2.10265117e-03],\n",
    "        [ 1.72412605e-03, -8.58071493e-04,  6.27913105e-04,\n",
    "         -4.08340804e-03],\n",
    "        [ 2.68175127e-03, -1.63576938e-03, -9.31847002e-03,\n",
    "         -1.93845030e-04],\n",
    "        [-5.83293755e-03,  1.95736508e-03, -2.00207127e-04,\n",
    "         -1.04814884e-03],\n",
    "        [ 3.55686457e-03,  7.30788289e-03, -9.41661303e-04,\n",
    "          4.80500096e-03],\n",
    "        [ 6.76476862e-04, -2.14314481e-04, -7.66097510e-04,\n",
    "         -2.71079480e-03],\n",
    "        [-3.65834520e-03,  7.38649350e-03,  1.80285275e-02,\n",
    "         -1.13024702e-02],\n",
    "        [-7.70746637e-03, -1.72380230e-03,  5.40864607e-03,\n",
    "         -1.24156917e-03],\n",
    "        [-4.90240427e-03, -6.24271634e-04,  2.45964224e-03,\n",
    "         -1.91784347e-04]],dtype=float32)\n",
    "    \n",
    "\n",
    "\n",
    "Nlenslets=36  #number of microlenses\n",
    "#convert from mm to microns\n",
    "xpos=np.reshape(xpos,(36))*1000\n",
    "ypos=np.reshape(ypos,(36))*1000\n",
    "rlist=np.reshape(rlist,(36))*1000\n",
    "zernlist=zernlist*1000\n",
    "\n",
    "height=50 #how much of support material to be printed under the phase mask (in microns)\n",
    "aperR=900 #radius of phase mask (collection of microlenses)"
   ]
  },
  {
   "cell_type": "code",
   "execution_count": 4,
   "metadata": {},
   "outputs": [],
   "source": [
    "X3,Y3=np.meshgrid(np.arange(-1000,1000),np.arange(-1000,1000))"
   ]
  },
  {
   "cell_type": "markdown",
   "metadata": {},
   "source": [
    "# Let's visualize our microlens array after adaptive stitching"
   ]
  },
  {
   "cell_type": "code",
   "execution_count": 8,
   "metadata": {},
   "outputs": [
    {
     "data": {
      "text/plain": [
       "<matplotlib.image.AxesImage at 0x7fee807b8b80>"
      ]
     },
     "execution_count": 8,
     "metadata": {},
     "output_type": "execute_result"
    },
    {
     "data": {
      "image/png": "[encoded data removed]",
      "text/plain": [
       "<Figure size 432x288 with 1 Axes>"
      ]
     },
     "metadata": {
      "needs_background": "light"
     },
     "output_type": "display_data"
    }
   ],
   "source": [
    "z=50     # this is for visualization only, this the height in microns where you want to see the slice\n",
    "\n",
    "lens=-1  # putting this to a number between 0 and Nlenslets will show you what each block does\n",
    "         # setting it to -1 will show all lenses..\n",
    "clf()\n",
    "Back=sliceFormulaAber(X2,Y2,z,[xpos,ypos,rlist,r_lenslet,height,aperR,-1,zernlist])\n",
    "T=sliceFormulaAber(X2,Y2,z,[xpos,ypos,rlist,r_lenslet,height,aperR,lens,zernlist])\n",
    "Mask=maskFormulaAber(X2,Y2,z,[xpos,ypos,rlist,r_lenslet,height,aperR,lens,zernlist])\n",
    "Res=T*(Mask)\n",
    "Back=np.where(Back==0,NaN,Back)\n",
    "imshow(Back+Res)\n",
    "\n"
   ]
  },
  {
   "cell_type": "markdown",
   "metadata": {},
   "source": [
    "## Now get the Centres of the lenses (most negative dist) as xpos, ypos not ideal"
   ]
  },
  {
   "cell_type": "code",
   "execution_count": 9,
   "metadata": {},
   "outputs": [],
   "source": [
    "# Note that there might be a small dependency on the height, taken 53 here but this can be changed..\n",
    "Cents=getCentresAber(X2,Y2,51,[xpos,ypos,rlist,r_lenslet,height,aperR,-1,zernlist])\n",
    "CCentsX=X2[0,Cents[:,0]]\n",
    "CCentsY=Y2[Cents[:,1],0]"
   ]
  },
  {
   "cell_type": "code",
   "execution_count": 10,
   "metadata": {},
   "outputs": [
    {
     "data": {
      "text/plain": [
       "(-810.9505280711508, 939.0216787103948, -876.3868816008894, 860.3779877709837)"
      ]
     },
     "execution_count": 10,
     "metadata": {},
     "output_type": "execute_result"
    },
    {
     "data": {
      "image/png": "[encoded data removed]",
      "text/plain": [
       "<Figure size 432x288 with 1 Axes>"
      ]
     },
     "metadata": {
      "needs_background": "light"
     },
     "output_type": "display_data"
    }
   ],
   "source": [
    "clf()\n",
    "plot(CCentsX,CCentsY,'rx')\n",
    "plt.axis('image')"
   ]
  },
  {
   "cell_type": "markdown",
   "metadata": {},
   "source": [
    "# Now start with Nanoscribe file"
   ]
  },
  {
   "cell_type": "code",
   "execution_count": 11,
   "metadata": {},
   "outputs": [],
   "source": [
    "optPoints=np.column_stack((CCentsX,CCentsY))"
   ]
  },
  {
   "cell_type": "code",
   "execution_count": 14,
   "metadata": {},
   "outputs": [
    {
     "name": "stdout",
     "output_type": "stream",
     "text": [
      "11402.334630350195\n"
     ]
    },
    {
     "data": {
      "image/png": "[encoded data removed]",
      "text/plain": [
       "<Figure size 432x288 with 1 Axes>"
      ]
     },
     "metadata": {
      "needs_background": "light"
     },
     "output_type": "display_data"
    }
   ],
   "source": [
    "# let's optimize the path for printing\n",
    "Ord,NNd=TipSlicerUpdated.TSPnearest(optPoints)\n",
    "plot(optPoints[Ord][:,0],optPoints[Ord][:,1],'-')\n",
    "print(NNd)"
   ]
  },
  {
   "cell_type": "markdown",
   "metadata": {},
   "source": [
    "### First check different FOV + Blocks to see if FOV big enough"
   ]
  },
  {
   "cell_type": "code",
   "execution_count": 15,
   "metadata": {},
   "outputs": [],
   "source": [
    "i=0\n",
    "Fov=400  # This is important! How big of a fov in microns you are trying to print before the stage moves (can get away with up to 400)\n",
    "hatching=0.2 \n",
    "am=np.int(np.round(Fov/hatching))\n",
    "z=50"
   ]
  },
  {
   "cell_type": "code",
   "execution_count": 18,
   "metadata": {},
   "outputs": [
    {
     "name": "stdout",
     "output_type": "stream",
     "text": [
      "Working on 22\n"
     ]
    }
   ],
   "source": [
    "xc=optPoints[Ord[i],0]\n",
    "yc=optPoints[Ord[i],1]\n",
    "\n",
    "xx=np.linspace(xc-Fov/2.0,xc+Fov/2.0,am)\n",
    "yy=np.linspace(yc-Fov/2.0,yc+Fov/2.0,am)\n",
    "Xloc,Yloc=np.meshgrid(xx,yy)\n",
    "print('Working on {}'.format(Ord[i]))\n",
    "\n",
    "#Back=sliceFormulaAber(Xloc,Yloc,z,[xpos,ypos,rlist,r_lenslet,height,aperR,-1,zernlist])\n",
    "T=sliceFormulaAber(Xloc,Yloc,z,[xpos,ypos,rlist,r_lenslet,height,aperR,Ord[i],zernlist])\n",
    "Mask=maskFormulaAber(Xloc,Yloc,z,[xpos,ypos,rlist,r_lenslet,height,aperR,Ord[i],zernlist])\n",
    "Res=T*(Mask)\n",
    "#Back=np.where(Back==0,NaN,Back)\n",
    "#imshow(Back+Res)\n",
    "#print(i)\n",
    "#i=i+1"
   ]
  },
  {
   "cell_type": "code",
   "execution_count": 22,
   "metadata": {},
   "outputs": [],
   "source": [
    "# this name will define the sub-folder that will be written to\n",
    "rootName='MicroAberStitch_36lenses_pdms_01_500fov_corrected'\n"
   ]
  },
  {
   "cell_type": "markdown",
   "metadata": {},
   "source": [
    "# Let's write the files need for the Nanoscribe printer\n",
    "This will take some time to run"
   ]
  },
  {
   "cell_type": "code",
   "execution_count": 23,
   "metadata": {},
   "outputs": [
    {
     "name": "stdout",
     "output_type": "stream",
     "text": [
      "Writing block 0\n",
      "Writing block 1\n",
      "Writing block 2\n",
      "Writing block 3\n",
      "Writing block 4\n",
      "Writing block 5\n",
      "Writing block 6\n",
      "Writing block 7\n",
      "Writing block 8\n",
      "Writing block 9\n",
      "Writing block 10\n",
      "Writing block 11\n",
      "Writing block 12\n",
      "Writing block 13\n",
      "Writing block 14\n",
      "Writing block 15\n",
      "Writing block 16\n",
      "Writing block 17\n",
      "Writing block 18\n",
      "Writing block 19\n",
      "Writing block 20\n",
      "Writing block 21\n",
      "Writing block 22\n",
      "Writing block 23\n",
      "Writing block 24\n",
      "Writing block 25\n",
      "Writing block 26\n",
      "Writing block 27\n",
      "Writing block 28\n",
      "Writing block 29\n",
      "Writing block 30\n",
      "Writing block 31\n",
      "Writing block 32\n",
      "Writing block 33\n",
      "Writing block 34\n",
      "Writing block 35\n"
     ]
    }
   ],
   "source": [
    "#%%%time\n",
    "# STEP 1: Write out the H5 stacks, intermediate format that is equivalent to a sliced STL\n",
    "#         => only changes if you change parameters here (slicing,hashing,writing height)\n",
    "#         => for other variations (number of shells etc..) you don't have to rerun this\n",
    "\n",
    "FovZ=54.120638  # should be maximum size of total element, used for slice determination\n",
    "height=50\n",
    "roughSlicing=2\n",
    "fineSlicing=0.1\n",
    "zzbase=np.arange(0,height,roughSlicing)  # speed up writing of base\n",
    "zzlenses=np.arange(height,FovZ,fineSlicing)\n",
    "zz=np.append(zzbase,zzlenses)\n",
    "\n",
    "\n",
    "Fov=500  # 600 is quite a lot, but using the 25x, could be possible. \n",
    "         # diameter of writing circle, using the Galvo and the 25x, 400µm is definitely writeable, \n",
    "         # it just implies the voxel might get deformed by optical aberrations of the objective\n",
    "         # => you can expect some quality decrease but no doubt still better than having a stitching line..\n",
    "\n",
    "hatching=0.2 #should be 0.2\n",
    "am=np.int(np.round(Fov/hatching))  \n",
    "\n",
    "\n",
    "\n",
    "#overlapXY_multiplier=3 # this is how much the different stitching blocks would overlap (this x hatching). \n",
    "# the masks are not overlapping for the moment, if we want this, needs to be implemented in masking function..\n",
    "\n",
    "if (not os.path.exists(rootName)):\n",
    "    os.mkdir(rootName)\n",
    "if (not os.path.exists(rootName+'/h5data')):\n",
    "    os.mkdir(rootName+'/h5data')\n",
    "if (not os.path.exists(rootName+'/data')):\n",
    "    os.mkdir(rootName+'/data')\n",
    "genBlockName=rootName+'/h5data/'+rootName+'_Block_{:05d}.h5'\n",
    "genGwlName=rootName+'/data/'+rootName+'_Block_{:05d}.gwl'\n",
    "genRegex=rootName+'/data/.+gwl'\n",
    "fullGwlName=rootName+'/'+rootName+'.gwl'\n",
    "\n",
    "for i in np.arange(len(Ord)):\n",
    "#for i in np.arange(5):\n",
    "    # now make coordinate systems\n",
    "    print('Writing block {}'.format(i))\n",
    "    xc=optPoints[Ord[i],0]\n",
    "    yc=optPoints[Ord[i],1]\n",
    "\n",
    "    xx=np.linspace(xc-Fov/2.0,xc+Fov/2.0,am)\n",
    "    yy=np.linspace(yc-Fov/2.0,yc+Fov/2.0,am)\n",
    "    Xloc,Yloc=np.meshgrid(xx,yy)\n",
    "    \n",
    "    # make specific mask\n",
    "#    MM=maskFormula(Xloc,Yloc,z,maskParams)\n",
    "    # if you need overlap, do binary_dilation on the mask\n",
    "#    MM=im.binary_dilation(MM,iterations=overlapXY_multiplier)\n",
    "    \n",
    "    # with these coordinate systems, apply formulaToStack\n",
    "    blockName=genBlockName.format(i)\n",
    "    \n",
    "    extras=[xpos,ypos,rlist,r_lenslet,height,aperR,Ord[i],zernlist]\n",
    "    Mask=maskFormulaAber(Xloc,Yloc,50.1,[xpos,ypos,rlist,r_lenslet,height,aperR,Ord[i],zernlist])\n",
    "    \n",
    "    # if you need overlap between the masks, apply some dilation here..\n",
    "    Mask=im.binary_dilation(Mask,iterations=3)\n",
    "    \n",
    "    TipSlicerUpdated.formulaToStack(blockName,Xloc,Yloc,zz,sliceFormulaAber,writingMask=Mask,extraParams=extras)\n",
    "    \n",
    "    "
   ]
  },
  {
   "cell_type": "code",
   "execution_count": 24,
   "metadata": {},
   "outputs": [
    {
     "name": "stdout",
     "output_type": "stream",
     "text": [
      "Writing block 0\n",
      "Writing block 1\n",
      "Writing block 2\n",
      "Writing block 3\n",
      "Writing block 4\n",
      "Writing block 5\n",
      "Writing block 6\n",
      "Writing block 7\n",
      "Writing block 8\n",
      "Writing block 9\n",
      "Writing block 10\n",
      "Writing block 11\n",
      "Writing block 12\n",
      "Writing block 13\n",
      "Writing block 14\n",
      "Writing block 15\n",
      "Writing block 16\n",
      "Writing block 17\n",
      "Writing block 18\n",
      "Writing block 19\n",
      "Writing block 20\n",
      "Writing block 21\n",
      "Writing block 22\n",
      "Writing block 23\n",
      "Writing block 24\n",
      "Writing block 25\n",
      "Writing block 26\n",
      "Writing block 27\n",
      "Writing block 28\n",
      "Writing block 29\n",
      "Writing block 30\n",
      "Writing block 31\n",
      "Writing block 32\n",
      "Writing block 33\n",
      "Writing block 34\n",
      "Writing block 35\n"
     ]
    }
   ],
   "source": [
    "#%%%time\n",
    "# STEP 2: Write out GWL files based on H5 files from above\n",
    "\n",
    "amShells=5\n",
    "ScaffStep=2 # for solid infill => 2*hatching is spacing here\n",
    "hatchStep=1 # for contour distance and top-bottom infill, not used if amShells==1 and doTopBottom=False\n",
    "\n",
    "\n",
    "# the definition below will be used to increase the writing laser power when the slicing is larger\n",
    "# below the base height, the intensity will be ? times larger, above it the nominal one will be used.\n",
    "def intensityMultiplier(z):\n",
    "    if (z<height):\n",
    "        return 5.0\n",
    "    else:\n",
    "        return 1.0\n",
    "\n",
    "#overlapXY_multiplier=3 # this is how much the different stitching blocks would overlap (this x hatching). \n",
    "# the masks are not overlapping for the moment, if we want this, needs to be implemented in masking function..\n",
    "\n",
    "rootName='MicroAberStitch_36lenses_pdms_01_500fov_corrected'\n",
    "if (not os.path.exists(rootName)):\n",
    "    os.mkdir(rootName)\n",
    "if (not os.path.exists(rootName+'/h5data')):\n",
    "    os.mkdir(rootName+'/h5data')\n",
    "if (not os.path.exists(rootName+'/data')):\n",
    "    os.mkdir(rootName+'/data')\n",
    "genBlockName=rootName+'/h5data/'+rootName+'_Block_{:05d}.h5'\n",
    "genGwlName=rootName+'/data/'+rootName+'_Block_{:05d}.gwl'\n",
    "genRegex=rootName+'/data/.+gwl'\n",
    "fullGwlName=rootName+'/'+rootName+'.gwl'\n",
    "\n",
    "writeColour=False  # will output a H5 file with the gwl-lines; not necessary at all\n",
    "\n",
    "distList=[]\n",
    "for i in np.arange(len(Ord)):\n",
    "#for i in np.arange(3):\n",
    "    # now make coordinate systems\n",
    "    print('Writing block {}'.format(i))\n",
    "    \n",
    "    blockName=genBlockName.format(i)\n",
    "    \n",
    "    dists=TipSlicerUpdated.stackToGwl(blockName,genGwlName.format(i),amShells,ScaffStep,hatchStep\n",
    "                                   ,atAngles=-1,writeHeader=False,writeColourH5=writeColour,doTopBottom=True,ZscalerFunc=intensityMultiplier)\n",
    "    try:\n",
    "        distList.append(dists)\n",
    "    except:\n",
    "        print('Could not add dist to list',dists)\n",
    "    \n",
    "TipSlicerUpdated.writeGwlForRegex(fullGwlName,genRegex)"
   ]
  }
 ],
 "metadata": {
  "kernelspec": {
   "display_name": "pytorch_cuda10_2",
   "language": "python",
   "name": "pytorch_cuda10_2"
  },
  "language_info": {
   "codemirror_mode": {
    "name": "ipython",
    "version": 3
   },
   "file_extension": ".py",
   "mimetype": "text/x-python",
   "name": "python",
   "nbconvert_exporter": "python",
   "pygments_lexer": "ipython3",
   "version": "3.8.5"
  }
 },
 "nbformat": 4,
 "nbformat_minor": 2
}
